{
  "nbformat": 4,
  "nbformat_minor": 0,
  "metadata": {
    "colab": {
      "name": "Matrices and Trig Functions",
      "provenance": [],
      "authorship_tag": "ABX9TyOfeUn4eUSJHWkSlwjhycXq",
      "include_colab_link": true
    },
    "kernelspec": {
      "name": "python3",
      "display_name": "Python 3"
    },
    "language_info": {
      "name": "python"
    }
  },
  "cells": [
    {
      "cell_type": "markdown",
      "metadata": {
        "id": "view-in-github",
        "colab_type": "text"
      },
      "source": [
        "<a href=\"https://colab.research.google.com/github/Umoboho/Robotics/blob/main/Matrices_and_Trig_Functions.ipynb\" target=\"_parent\"><img src=\"https://colab.research.google.com/assets/colab-badge.svg\" alt=\"Open In Colab\"/></a>"
      ]
    },
    {
      "cell_type": "code",
      "execution_count": 2,
      "metadata": {
        "id": "FPHTP8ZI9Szn"
      },
      "outputs": [],
      "source": [
        "import numpy as np\n",
        "import numpy.linalg as npl\n",
        "import pandas as pd"
      ]
    },
    {
      "cell_type": "markdown",
      "source": [
        "Inputing the Denavit Hartenberg parameters of the system"
      ],
      "metadata": {
        "id": "BVQoA0U_Rv6e"
      }
    },
    {
      "cell_type": "code",
      "source": [
        "#data\n",
        "h_data = [[-90,-90,169.77,64.2],\n",
        "          [90,0,0,305],\n",
        "          [-90,90,0,0],\n",
        "          [0.01,-90,-222.63,0],\n",
        "          [0.01,90,0,0],\n",
        "          [0.01,0,-36.25,0]]\n",
        "joints = len(h_data)"
      ],
      "metadata": {
        "id": "AetkearoeTWg"
      },
      "execution_count": null,
      "outputs": []
    },
    {
      "cell_type": "code",
      "source": [
        "h_param = []\n",
        "\n",
        "for data in h_data:\n",
        "  theta,alpha,dz,rx = tuple(data)\n",
        "  h_param.append([np.radians(float(theta)),np.radians(float(alpha)),float(dz),float(rx)]) \n",
        "\n",
        "h_df = pd.DataFrame (h_param, columns = ['theta','alpha','d','r'])\n",
        "print (h_df)"
      ],
      "metadata": {
        "colab": {
          "base_uri": "https://localhost:8080/"
        },
        "id": "eQG1t6TmfdzD",
        "outputId": "963fa8f7-d7f2-47c4-f2c9-9d27ee327bc2"
      },
      "execution_count": null,
      "outputs": [
        {
          "output_type": "stream",
          "name": "stdout",
          "text": [
            "[[-1.5707963267948966, -1.5707963267948966, 169.77, 64.2], [1.5707963267948966, 0.0, 0.0, 305.0], [-1.5707963267948966, 1.5707963267948966, 0.0, 0.0], [0.00017453292519943296, -1.5707963267948966, -222.63, 0.0], [0.00017453292519943296, 1.5707963267948966, 0.0, 0.0], [0.00017453292519943296, 0.0, -36.25, 0.0]]\n",
            "      theta     alpha       d      r\n",
            "0 -1.570796 -1.570796  169.77   64.2\n",
            "1  1.570796  0.000000    0.00  305.0\n",
            "2 -1.570796  1.570796    0.00    0.0\n",
            "3  0.000175 -1.570796 -222.63    0.0\n",
            "4  0.000175  1.570796    0.00    0.0\n",
            "5  0.000175  0.000000  -36.25    0.0\n"
          ]
        }
      ]
    },
    {
      "cell_type": "markdown",
      "source": [
        "Calculating the Homogenous transformation matrix for each joint from origin to nth joint"
      ],
      "metadata": {
        "id": "ie4i4IgOR723"
      }
    },
    {
      "cell_type": "code",
      "source": [
        "dh_joints = []\n",
        "for joint in range(joints):\n",
        "  theta,alpha,dz,rx = (h_param[joint][0],h_param[joint][1],h_param[joint][2],h_param[joint][3])\n",
        "  print(theta,alpha,dz,rx)\n",
        "  H = [[np.cos(theta),-(np.sin(theta)*np.cos(alpha)),np.sin(theta)*np.sin(alpha),rx*np.cos(theta)],\n",
        "       [np.sin(theta),np.cos(theta)*np.cos(alpha),-(np.cos(theta)*np.sin(alpha)),rx*np.sin(theta)],\n",
        "       [0,np.sin(alpha),np.cos(alpha),dz],\n",
        "       [0,0,0,1]]\n",
        "  dh_joints.append(H)\n",
        "\n",
        "for dh in dh_joints:\n",
        "  print(np.around(np.matrix(dh),2))\n",
        "  \n"
      ],
      "metadata": {
        "id": "FNY2UopJGNTo",
        "colab": {
          "base_uri": "https://localhost:8080/"
        },
        "outputId": "c1e129e7-7fb0-4c62-d740-f2616bb97b20"
      },
      "execution_count": null,
      "outputs": [
        {
          "output_type": "stream",
          "name": "stdout",
          "text": [
            "-1.5707963267948966 -1.5707963267948966 169.77 64.2\n",
            "1.5707963267948966 0.0 0.0 305.0\n",
            "-1.5707963267948966 1.5707963267948966 0.0 0.0\n",
            "0.00017453292519943296 -1.5707963267948966 -222.63 0.0\n",
            "0.00017453292519943296 1.5707963267948966 0.0 0.0\n",
            "0.00017453292519943296 0.0 -36.25 0.0\n",
            "[[  0.     0.     1.     0.  ]\n",
            " [ -1.     0.     0.   -64.2 ]\n",
            " [  0.    -1.     0.   169.77]\n",
            " [  0.     0.     0.     1.  ]]\n",
            "[[  0.  -1.   0.   0.]\n",
            " [  1.   0.  -0. 305.]\n",
            " [  0.   0.   1.   0.]\n",
            " [  0.   0.   0.   1.]]\n",
            "[[ 0.  0. -1.  0.]\n",
            " [-1.  0. -0. -0.]\n",
            " [ 0.  1.  0.  0.]\n",
            " [ 0.  0.  0.  1.]]\n",
            "[[   1.     -0.     -0.      0.  ]\n",
            " [   0.      0.      1.      0.  ]\n",
            " [   0.     -1.      0.   -222.63]\n",
            " [   0.      0.      0.      1.  ]]\n",
            "[[ 1. -0.  0.  0.]\n",
            " [ 0.  0. -1.  0.]\n",
            " [ 0.  1.  0.  0.]\n",
            " [ 0.  0.  0.  1.]]\n",
            "[[  1.    -0.     0.     0.  ]\n",
            " [  0.     1.    -0.     0.  ]\n",
            " [  0.     0.     1.   -36.25]\n",
            " [  0.     0.     0.     1.  ]]\n"
          ]
        }
      ]
    },
    {
      "cell_type": "code",
      "source": [
        "hw_0 = np.matrix([[1,0,0,0],[0,1,0,0],[0,0,1,0],[0,0,0,1]])\n",
        "\n",
        "h0_1 = np.matrix([[np.cos(h_param[0][0]),-(np.sin(h_param[0][0])*np.cos(h_param[0][1])),np.sin(h_param[0][0])*np.sin(h_param[0][1]),h_param[0][3]*np.cos(h_param[0][0])],\n",
        "                  [np.sin(h_param[0][0]),np.cos(h_param[0][0])*np.cos(h_param[0][1]),-(np.cos(h_param[0][0])*np.sin(h_param[0][1])),h_param[0][3]*np.sin(h_param[0][0])],\n",
        "                  [0,np.sin(h_param[0][1]),np.cos(h_param[0][1]),h_param[0][2]],\n",
        "                  [0,0,0,1]])\n",
        "print(np.around(h0_1,3))\n",
        "h1_2 = np.matrix([[np.cos(h_param[1][0]),-(np.sin(h_param[1][0])*np.cos(h_param[1][1])),np.sin(h_param[1][0])*np.sin(h_param[1][1]),h_param[1][3]*np.cos(h_param[1][0])],\n",
        "                  [np.sin(h_param[1][0]),np.cos(h_param[1][0])*np.cos(h_param[1][1]),-(np.cos(h_param[1][0])*np.sin(h_param[1][1])),h_param[1][3]*np.sin(h_param[1][0])],\n",
        "                  [0,np.sin(h_param[1][1]),np.cos(h_param[1][1]),h_param[1][2]],\n",
        "                  [0,0,0,1]])\n",
        "\n",
        "h0_2 = np.dot(h0_1,h1_2)\n",
        "print(np.around(h0_2,3))\n",
        "\n",
        "h2_3 = np.matrix([[np.cos(h_param[2][0]),-(np.sin(h_param[2][0])*np.cos(h_param[2][1])),np.sin(h_param[2][0])*np.sin(h_param[2][1]),h_param[2][3]*np.cos(h_param[2][0])],\n",
        "                  [np.sin(h_param[2][0]),np.cos(h_param[2][0])*np.cos(h_param[2][1]),-(np.cos(h_param[2][0])*np.sin(h_param[2][1])),h_param[2][3]*np.sin(h_param[2][0])],\n",
        "                  [0,np.sin(h_param[2][1]),np.cos(h_param[2][1]),h_param[2][2]],\n",
        "                  [0,0,0,1]])\n",
        "\n",
        "h0_3 = np.dot(h0_2,h2_3)\n",
        "print(np.around(h0_3,3))\n",
        "\n",
        "h3_4 = np.matrix([[np.cos(h_param[3][0]),-(np.sin(h_param[3][0])*np.cos(h_param[3][1])),np.sin(h_param[3][0])*np.sin(h_param[3][1]),h_param[3][3]*np.cos(h_param[3][0])],\n",
        "                  [np.sin(h_param[3][0]),np.cos(h_param[3][0])*np.cos(h_param[3][1]),-(np.cos(h_param[3][0])*np.sin(h_param[3][1])),h_param[3][3]*np.sin(h_param[3][0])],\n",
        "                  [0,np.sin(h_param[3][1]),np.cos(h_param[3][1]),h_param[3][2]],\n",
        "                  [0,0,0,1]])\n",
        "\n",
        "h0_4 = np.dot(h0_3,h3_4)\n",
        "print(np.around(h0_4,3))\n",
        "\n",
        "h4_5 = np.matrix([[np.cos(h_param[4][0]),-(np.sin(h_param[4][0])*np.cos(h_param[4][1])),np.sin(h_param[4][0])*np.sin(h_param[4][1]),h_param[4][3]*np.cos(h_param[4][0])],\n",
        "                  [np.sin(h_param[4][0]),np.cos(h_param[4][0])*np.cos(h_param[4][1]),-(np.cos(h_param[4][0])*np.sin(h_param[4][1])),h_param[4][3]*np.sin(h_param[4][0])],\n",
        "                  [0,np.sin(h_param[4][1]),np.cos(h_param[4][1]),h_param[4][2]],\n",
        "                  [0,0,0,1]])\n",
        "\n",
        "h0_5 = np.dot(h0_4,h4_5)\n",
        "print(np.around(h0_5,3))\n",
        "\n",
        "h5_6 = np.matrix([[np.cos(h_param[5][0]),-(np.sin(h_param[5][0])*np.cos(h_param[5][1])),np.sin(h_param[5][0])*np.sin(h_param[5][1]),h_param[5][3]*np.cos(h_param[5][0])],\n",
        "                  [np.sin(h_param[5][0]),np.cos(h_param[5][0])*np.cos(h_param[5][1]),-(np.cos(h_param[5][0])*np.sin(h_param[5][1])),h_param[5][3]*np.sin(h_param[5][0])],\n",
        "                  [0,np.sin(h_param[5][1]),np.cos(h_param[5][1]),h_param[5][2]],\n",
        "                  [0,0,0,1]])\n",
        "\n",
        "h0_6 = np.dot(h0_5,h5_6)\n",
        "print(np.around(h0_6,3))\n",
        "\n",
        "h6_t = np.matrix([[1,0,0,0],[0,1,0,0],[0,0,1,0],[0,0,0,1]])"
      ],
      "metadata": {
        "id": "bKffgl2KxIPh",
        "colab": {
          "base_uri": "https://localhost:8080/"
        },
        "outputId": "c4315d39-9e15-4969-d2d1-f02b01941827"
      },
      "execution_count": null,
      "outputs": [
        {
          "output_type": "stream",
          "name": "stdout",
          "text": [
            "[[  0.     0.     1.     0.  ]\n",
            " [ -1.     0.     0.   -64.2 ]\n",
            " [  0.    -1.     0.   169.77]\n",
            " [  0.     0.     0.     1.  ]]\n",
            "[[   0.     -0.      1.      0.  ]\n",
            " [  -0.      1.      0.    -64.2 ]\n",
            " [  -1.     -0.      0.   -135.23]\n",
            " [   0.      0.      0.      1.  ]]\n",
            "[[   0.      1.      0.      0.  ]\n",
            " [  -1.      0.      0.    -64.2 ]\n",
            " [   0.      0.      1.   -135.23]\n",
            " [   0.      0.      0.      1.  ]]\n",
            "[[   0.      0.      1.      0.  ]\n",
            " [  -1.      0.      0.    -64.2 ]\n",
            " [   0.     -1.      0.   -357.86]\n",
            " [   0.      0.      0.      1.  ]]\n",
            "[[   0.      1.      0.      0.  ]\n",
            " [  -1.      0.     -0.    -64.2 ]\n",
            " [  -0.      0.      1.   -357.86]\n",
            " [   0.      0.      0.      1.  ]]\n",
            "[[   0.       1.       0.      -0.   ]\n",
            " [  -1.       0.      -0.     -64.194]\n",
            " [  -0.       0.       1.    -394.11 ]\n",
            " [   0.       0.       0.       1.   ]]\n"
          ]
        }
      ]
    },
    {
      "cell_type": "markdown",
      "source": [
        "Calulating the Homogenous transformation matrix of nth joint to the origin\n",
        "\n",
        "---\n",
        "\n"
      ],
      "metadata": {
        "id": "NlJdIhUrSIn5"
      }
    },
    {
      "cell_type": "code",
      "source": [
        "dh0_n = np.identity(4)\n",
        "systemframe = np.matrix([[1,0,0,0],[0,1,0,0],[0,0,1,0],[0,0,0,1]])\n",
        "toolframe = np.matrix([[1,0,0,0],[0,1,0,0],[0,0,1,0],[0,0,0,1]])\n",
        "\n",
        "dh0_n = np.dot(dh0_n,systemframe)\n",
        "for n in range(joints):\n",
        "  dh0_n = np.dot(dh0_n,np.matrix(dh_joints[n]))\n",
        "dh0_n = np.dot(dh0_n,toolframe)\n",
        "\n",
        "dh0_n = np.around(dh0_n, decimals=3, out=None)\n",
        "\n",
        "print(dh0_n) "
      ],
      "metadata": {
        "id": "i76boCVE2U5M",
        "colab": {
          "base_uri": "https://localhost:8080/"
        },
        "outputId": "a9495eea-3ef1-4a0b-f545-97a8d0f1b845"
      },
      "execution_count": null,
      "outputs": [
        {
          "output_type": "stream",
          "name": "stdout",
          "text": [
            "[[   0.       1.       0.      -0.   ]\n",
            " [  -1.       0.      -0.     -64.194]\n",
            " [  -0.       0.       1.    -394.11 ]\n",
            " [   0.       0.       0.       1.   ]]\n"
          ]
        }
      ]
    },
    {
      "cell_type": "code",
      "source": [
        "hw_t = npl.multi_dot([hw_0,h0_1,h1_2,h2_3,h3_4,h4_5,h5_6,h6_t])\n",
        "print(np.around(hw_t,2))\n",
        "x = hw_t[0,-1]\n",
        "y = hw_t[1,-1]\n",
        "z = hw_t[2,-1]\n",
        "roty = np.arctan2(-hw_t[2,0], np.sqrt(np.float_power(hw_t[0,0],2) + np.float_power(hw_t[1,0],2)))\n",
        "rotx = np.arctan2(hw_t[2,1]/np.cos(roty),hw_t[2,2]/np.cos(roty)) \n",
        "rotz = np.arctan2((hw_t[1,0]/np.cos(roty)),(hw_t[0,0]/np.cos(roty)))\n",
        "\n",
        "print(np.around(x,4))\n",
        "print(np.around(y,4))\n",
        "print(np.around(z,4))\n",
        "print(np.around(np.degrees(rotx),4))\n",
        "print(np.around(np.degrees(roty),4))\n",
        "print(np.around(np.degrees(rotz),4))\n"
      ],
      "metadata": {
        "id": "Vbo6QbKeyK4Q",
        "colab": {
          "base_uri": "https://localhost:8080/"
        },
        "outputId": "45ab1a79-93de-452e-9c9a-77375403192d"
      },
      "execution_count": null,
      "outputs": [
        {
          "output_type": "stream",
          "name": "stdout",
          "text": [
            "[[   0.      1.      0.     -0.  ]\n",
            " [  -1.      0.     -0.    -64.19]\n",
            " [  -0.      0.      1.   -394.11]\n",
            " [   0.      0.      0.      1.  ]]\n",
            "-0.0\n",
            "-64.1937\n",
            "-394.11\n",
            "90.0\n",
            "0.01\n",
            "179.98\n"
          ]
        }
      ]
    },
    {
      "cell_type": "markdown",
      "source": [
        "Calculating the rotatational velocity of each joint based on the velocity of end-effector's linear and rotational velocities of each axis"
      ],
      "metadata": {
        "id": "9w5_bp7AQ_iL"
      }
    },
    {
      "cell_type": "markdown",
      "source": [
        "https://www.w3schools.com/python/numpy/numpy_array_slicing.asp\n",
        "https://numpy.org/doc/stable/reference/index.html"
      ],
      "metadata": {
        "id": "7iZLfOAkRrLz"
      }
    },
    {
      "cell_type": "code",
      "source": [
        "#nLinear velocities for jacobian matrix\n",
        "j1l = np.cross(np.identity(3)[0:3, -2:-1], h0_6[0:3, -1:],axis=0)\n",
        "j2l = np.cross(h0_2[0:3, -2:-1], h0_6[0:3, -1:] - h0_1[0:3, -1:],axis=0)\n",
        "j3l = np.cross(h0_3[0:3, -2:-1], h0_6[0:3, -1:] - h0_2[0:3, -1:],axis=0)\n",
        "j4l = np.cross(h0_4[0:3, -2:-1], h0_6[0:3, -1:] - h0_3[0:3, -1:],axis=0)\n",
        "j5l = np.cross(h0_5[0:3, -2:-1], h0_6[0:3, -1:] - h0_4[0:3, -1:],axis=0)\n",
        "j6l = np.cross(h0_6[0:3, -2:-1], h0_6[0:3, -1:] - h0_5[0:3, -1:],axis=0)\n"
      ],
      "metadata": {
        "id": "ZLQrhZFFQ-4P",
        "colab": {
          "base_uri": "https://localhost:8080/",
          "height": 245
        },
        "outputId": "72577466-73c2-4454-abb2-c5c2917a6a61"
      },
      "execution_count": null,
      "outputs": [
        {
          "output_type": "error",
          "ename": "NameError",
          "evalue": "ignored",
          "traceback": [
            "\u001b[0;31m---------------------------------------------------------------------------\u001b[0m",
            "\u001b[0;31mNameError\u001b[0m                                 Traceback (most recent call last)",
            "\u001b[0;32m<ipython-input-3-3276926e9eef>\u001b[0m in \u001b[0;36m<module>\u001b[0;34m()\u001b[0m\n\u001b[1;32m      1\u001b[0m \u001b[0;31m#nLinear velocities for jacobian matrix\u001b[0m\u001b[0;34m\u001b[0m\u001b[0;34m\u001b[0m\u001b[0;34m\u001b[0m\u001b[0m\n\u001b[0;32m----> 2\u001b[0;31m \u001b[0mj1l\u001b[0m \u001b[0;34m=\u001b[0m \u001b[0mnp\u001b[0m\u001b[0;34m.\u001b[0m\u001b[0mcross\u001b[0m\u001b[0;34m(\u001b[0m\u001b[0mnp\u001b[0m\u001b[0;34m.\u001b[0m\u001b[0midentity\u001b[0m\u001b[0;34m(\u001b[0m\u001b[0;36m3\u001b[0m\u001b[0;34m)\u001b[0m\u001b[0;34m[\u001b[0m\u001b[0;36m0\u001b[0m\u001b[0;34m:\u001b[0m\u001b[0;36m3\u001b[0m\u001b[0;34m,\u001b[0m \u001b[0;34m-\u001b[0m\u001b[0;36m2\u001b[0m\u001b[0;34m:\u001b[0m\u001b[0;34m-\u001b[0m\u001b[0;36m1\u001b[0m\u001b[0;34m]\u001b[0m\u001b[0;34m,\u001b[0m \u001b[0mh0_6\u001b[0m\u001b[0;34m[\u001b[0m\u001b[0;36m0\u001b[0m\u001b[0;34m:\u001b[0m\u001b[0;36m3\u001b[0m\u001b[0;34m,\u001b[0m \u001b[0;34m-\u001b[0m\u001b[0;36m1\u001b[0m\u001b[0;34m:\u001b[0m\u001b[0;34m]\u001b[0m\u001b[0;34m,\u001b[0m\u001b[0maxis\u001b[0m\u001b[0;34m=\u001b[0m\u001b[0;36m0\u001b[0m\u001b[0;34m)\u001b[0m\u001b[0;34m\u001b[0m\u001b[0;34m\u001b[0m\u001b[0m\n\u001b[0m\u001b[1;32m      3\u001b[0m \u001b[0mj2l\u001b[0m \u001b[0;34m=\u001b[0m \u001b[0mnp\u001b[0m\u001b[0;34m.\u001b[0m\u001b[0mcross\u001b[0m\u001b[0;34m(\u001b[0m\u001b[0mh0_2\u001b[0m\u001b[0;34m[\u001b[0m\u001b[0;36m0\u001b[0m\u001b[0;34m:\u001b[0m\u001b[0;36m3\u001b[0m\u001b[0;34m,\u001b[0m \u001b[0;34m-\u001b[0m\u001b[0;36m2\u001b[0m\u001b[0;34m:\u001b[0m\u001b[0;34m-\u001b[0m\u001b[0;36m1\u001b[0m\u001b[0;34m]\u001b[0m\u001b[0;34m,\u001b[0m \u001b[0mh0_6\u001b[0m\u001b[0;34m[\u001b[0m\u001b[0;36m0\u001b[0m\u001b[0;34m:\u001b[0m\u001b[0;36m3\u001b[0m\u001b[0;34m,\u001b[0m \u001b[0;34m-\u001b[0m\u001b[0;36m1\u001b[0m\u001b[0;34m:\u001b[0m\u001b[0;34m]\u001b[0m \u001b[0;34m-\u001b[0m \u001b[0mh0_1\u001b[0m\u001b[0;34m[\u001b[0m\u001b[0;36m0\u001b[0m\u001b[0;34m:\u001b[0m\u001b[0;36m3\u001b[0m\u001b[0;34m,\u001b[0m \u001b[0;34m-\u001b[0m\u001b[0;36m1\u001b[0m\u001b[0;34m:\u001b[0m\u001b[0;34m]\u001b[0m\u001b[0;34m,\u001b[0m\u001b[0maxis\u001b[0m\u001b[0;34m=\u001b[0m\u001b[0;36m0\u001b[0m\u001b[0;34m)\u001b[0m\u001b[0;34m\u001b[0m\u001b[0;34m\u001b[0m\u001b[0m\n\u001b[1;32m      4\u001b[0m \u001b[0mj3l\u001b[0m \u001b[0;34m=\u001b[0m \u001b[0mnp\u001b[0m\u001b[0;34m.\u001b[0m\u001b[0mcross\u001b[0m\u001b[0;34m(\u001b[0m\u001b[0mh0_3\u001b[0m\u001b[0;34m[\u001b[0m\u001b[0;36m0\u001b[0m\u001b[0;34m:\u001b[0m\u001b[0;36m3\u001b[0m\u001b[0;34m,\u001b[0m \u001b[0;34m-\u001b[0m\u001b[0;36m2\u001b[0m\u001b[0;34m:\u001b[0m\u001b[0;34m-\u001b[0m\u001b[0;36m1\u001b[0m\u001b[0;34m]\u001b[0m\u001b[0;34m,\u001b[0m \u001b[0mh0_6\u001b[0m\u001b[0;34m[\u001b[0m\u001b[0;36m0\u001b[0m\u001b[0;34m:\u001b[0m\u001b[0;36m3\u001b[0m\u001b[0;34m,\u001b[0m \u001b[0;34m-\u001b[0m\u001b[0;36m1\u001b[0m\u001b[0;34m:\u001b[0m\u001b[0;34m]\u001b[0m \u001b[0;34m-\u001b[0m \u001b[0mh0_2\u001b[0m\u001b[0;34m[\u001b[0m\u001b[0;36m0\u001b[0m\u001b[0;34m:\u001b[0m\u001b[0;36m3\u001b[0m\u001b[0;34m,\u001b[0m \u001b[0;34m-\u001b[0m\u001b[0;36m1\u001b[0m\u001b[0;34m:\u001b[0m\u001b[0;34m]\u001b[0m\u001b[0;34m,\u001b[0m\u001b[0maxis\u001b[0m\u001b[0;34m=\u001b[0m\u001b[0;36m0\u001b[0m\u001b[0;34m)\u001b[0m\u001b[0;34m\u001b[0m\u001b[0;34m\u001b[0m\u001b[0m\n\u001b[1;32m      5\u001b[0m \u001b[0mj4l\u001b[0m \u001b[0;34m=\u001b[0m \u001b[0mnp\u001b[0m\u001b[0;34m.\u001b[0m\u001b[0mcross\u001b[0m\u001b[0;34m(\u001b[0m\u001b[0mh0_4\u001b[0m\u001b[0;34m[\u001b[0m\u001b[0;36m0\u001b[0m\u001b[0;34m:\u001b[0m\u001b[0;36m3\u001b[0m\u001b[0;34m,\u001b[0m \u001b[0;34m-\u001b[0m\u001b[0;36m2\u001b[0m\u001b[0;34m:\u001b[0m\u001b[0;34m-\u001b[0m\u001b[0;36m1\u001b[0m\u001b[0;34m]\u001b[0m\u001b[0;34m,\u001b[0m \u001b[0mh0_6\u001b[0m\u001b[0;34m[\u001b[0m\u001b[0;36m0\u001b[0m\u001b[0;34m:\u001b[0m\u001b[0;36m3\u001b[0m\u001b[0;34m,\u001b[0m \u001b[0;34m-\u001b[0m\u001b[0;36m1\u001b[0m\u001b[0;34m:\u001b[0m\u001b[0;34m]\u001b[0m \u001b[0;34m-\u001b[0m \u001b[0mh0_3\u001b[0m\u001b[0;34m[\u001b[0m\u001b[0;36m0\u001b[0m\u001b[0;34m:\u001b[0m\u001b[0;36m3\u001b[0m\u001b[0;34m,\u001b[0m \u001b[0;34m-\u001b[0m\u001b[0;36m1\u001b[0m\u001b[0;34m:\u001b[0m\u001b[0;34m]\u001b[0m\u001b[0;34m,\u001b[0m\u001b[0maxis\u001b[0m\u001b[0;34m=\u001b[0m\u001b[0;36m0\u001b[0m\u001b[0;34m)\u001b[0m\u001b[0;34m\u001b[0m\u001b[0;34m\u001b[0m\u001b[0m\n",
            "\u001b[0;31mNameError\u001b[0m: name 'h0_6' is not defined"
          ]
        }
      ]
    },
    {
      "cell_type": "code",
      "source": [
        "#nRotational velocities for jacobian matrix\n",
        "j1r = np.identity(3)[0:3, -2:-1]\n",
        "j2r = h0_2[0:3, -2:-1]\n",
        "j3r = h0_3[0:3, -2:-1]\n",
        "j4r = h0_4[0:3, -2:-1]\n",
        "j5r = h0_5[0:3, -2:-1]\n",
        "j6r = h0_6[0:3, -2:-1]\n"
      ],
      "metadata": {
        "id": "tXG6i4P4TU9e"
      },
      "execution_count": null,
      "outputs": []
    },
    {
      "cell_type": "code",
      "source": [
        "#Jacobian matrix\n",
        "j_matrix = np.matrix([[j1l[0],j2l[0],j3l[0],j4l[0],j5l[0],j6l[0]],\n",
        "                      [j1l[1],j2l[1],j3l[1],j4l[1],j5l[1],j6l[1]],\n",
        "                      [j1l[2],j2l[2],j3l[2],j4l[2],j5l[2],j6l[2]],\n",
        "                      [j1r[0],j2r[0],j3r[0],j4r[0],j5r[0],j6r[0]],\n",
        "                      [j1r[1],j2r[1],j3r[1],j4r[1],j5r[1],j6r[1]],\n",
        "                      [j1r[2],j2r[2],j3r[2],j4r[2],j5r[2],j6r[2]]])\n",
        "\n",
        "print(np.around(j_matrix,1))"
      ],
      "metadata": {
        "id": "LbjdmItqbC8w"
      },
      "execution_count": null,
      "outputs": []
    },
    {
      "cell_type": "code",
      "source": [
        "jnl = np.hstack((j1l,j2l,j3l,j4l,j5l,j6l))\n",
        "jnr = np.hstack((j1r,j2r,j3r,j4r,j5r,j6r))\n",
        "\n",
        "j_matrix = np.vstack((jnl,jnr))\n",
        "\n",
        "print(np.around(j_matrix,1))"
      ],
      "metadata": {
        "colab": {
          "base_uri": "https://localhost:8080/"
        },
        "id": "mD39cHAYK2ZW",
        "outputId": "8e8e62d1-cb73-4df6-af92-c7d257fa2254"
      },
      "execution_count": null,
      "outputs": [
        {
          "output_type": "stream",
          "name": "stdout",
          "text": [
            "[[-394.1   -0.    -0.    -0.    -0.    -0. ]\n",
            " [   0.   563.9   -0.   258.9    0.     0. ]\n",
            " [   0.     0.     0.     0.     0.     0. ]\n",
            " [   0.     1.     0.     1.     0.     0. ]\n",
            " [   1.     0.     0.     0.    -0.    -0. ]\n",
            " [   0.     0.     1.     0.     1.     1. ]]\n"
          ]
        }
      ]
    }
  ]
}